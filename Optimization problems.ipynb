{
 "cells": [
  {
   "cell_type": "markdown",
   "metadata": {},
   "source": [
    "Many practical problems are similar to optimization problem. This document will show how we solve this type of problems.\n",
    "\n",
    "Greedy algorithms often provide adequate solution but it is exponential hard. Using dynamic programming often yields good performance for problems.\n",
    "\n",
    "In the following context, we are going to solve a Knapsack problem.\n",
    "Distribution:\n",
    "    I would like to carry several items into my knapsack but there is a maximum weight knapsack that I can carry.\n",
    "\n",
    "Formalized:\n",
    "    Each item is represented by <value,weight>    \n",
    "    $$ max\\left(\\sum_{i=0}^{n-1} V[i]*I[i].value\\right)$$\n",
    "        where V[i]=1  item[i] is taken, V[i]=0 itme[i] isn't taken\n",
    "    \n",
    "    subject to \n",
    "    \n",
    "    $$ \\left(\\sum_{i=0}^{n-1} V[i]*I[i].value \\right)<=w$$\n",
    "    \n",
    "\n"
   ]
  },
  {
   "cell_type": "markdown",
   "metadata": {},
   "source": [
    "Bruce Force Algorithm\n",
    "    1. Generate power set\n",
    "    2. Remove all of the sets whose total units exceeds the allowed weight\n",
    "    3. From the remaining sets, choose one whose value is the largest \n",
    "    \n",
    "Cons: exponential complexity $2^n$"
   ]
  },
  {
   "cell_type": "markdown",
   "metadata": {},
   "source": [
    "Greedy Algorithm\n",
    "While knapack is not full, we put \"best\" available itme in knapack.\n",
    "    1. Define the metric. It can be the value, cost, weight,..\n",
    "    2. Sort by the metric.\n",
    "    3. Put items in the knapack until the knapack is full.    \n",
    "    \n",
    "Cons: a bit bitter but it's still exponential complexity n(log n)"
   ]
  },
  {
   "cell_type": "code",
   "execution_count": 30,
   "metadata": {},
   "outputs": [],
   "source": [
    "import random"
   ]
  },
  {
   "cell_type": "code",
   "execution_count": 27,
   "metadata": {},
   "outputs": [],
   "source": [
    "class Food(object):\n",
    "    def __init__(self, n, v, w):\n",
    "        self.name = n\n",
    "        self.value = v\n",
    "        self.calories = w\n",
    "    def getValue(self):\n",
    "        return self.value\n",
    "    def getCost(self):\n",
    "        return self.calories\n",
    "    def density(self):\n",
    "        return self.getValue()/self.getCost()\n",
    "    def __str__(self):\n",
    "        return self.name + ': <' + str(self.value)\\\n",
    "                 + ', ' + str(self.calories) + '>'\n",
    "\n",
    "def buildMenu(names, values, calories):\n",
    "    \"\"\"names, values, calories lists of same length.\n",
    "       name a list of strings\n",
    "       values and calories lists of numbers\n",
    "       returns list of Foods\"\"\"\n",
    "    menu = []\n",
    "    for i in range(len(values)):\n",
    "        menu.append(Food(names[i], values[i],\n",
    "                          calories[i]))\n",
    "    return menu\n",
    "\n",
    "def buildLargeMenu(numItems, maxVal, maxCost):\n",
    "    items = []\n",
    "    for i in range(numItems):\n",
    "        items.append(Food(str(i),\n",
    "                          random.randint(1, maxVal),\n",
    "                          random.randint(1, maxCost)))\n",
    "    return items"
   ]
  },
  {
   "cell_type": "code",
   "execution_count": 21,
   "metadata": {},
   "outputs": [],
   "source": [
    "def greedy(items, maxCost, keyFunction):\n",
    "    \"\"\"Assumes items a list, maxCost >= 0,\n",
    "         keyFunction maps elements of items to numbers\"\"\"\n",
    "    itemsCopy = sorted(items, key = keyFunction,\n",
    "                       reverse = True)\n",
    "    result = []\n",
    "    totalValue, totalCost = 0.0, 0.0\n",
    "    for i in range(len(itemsCopy)):\n",
    "        if (totalCost+itemsCopy[i].getCost()) <= maxCost:\n",
    "            result.append(itemsCopy[i])\n",
    "            totalCost += itemsCopy[i].getCost()\n",
    "            totalValue += itemsCopy[i].getValue()\n",
    "    return (result, totalValue)"
   ]
  },
  {
   "cell_type": "code",
   "execution_count": 22,
   "metadata": {},
   "outputs": [],
   "source": [
    "def testGreedy(items, constraint, keyFunction):\n",
    "    taken, val = greedy(items, constraint, keyFunction)\n",
    "    print('Total value of items taken =', val)\n",
    "    for item in taken:\n",
    "        print('   ', item)\n",
    "\n",
    "def testGreedys(foods, maxUnits):\n",
    "    print('Use greedy by value to allocate', maxUnits,\n",
    "          'calories')\n",
    "    testGreedy(foods, maxUnits, Food.getValue)\n",
    "    print('\\nUse greedy by cost to allocate', maxUnits,\n",
    "          'calories')\n",
    "    testGreedy(foods, maxUnits,\n",
    "               lambda x: 1/Food.getCost(x))\n",
    "    print('\\nUse greedy by density to allocate', maxUnits,\n",
    "          'calories')\n",
    "    testGreedy(foods, maxUnits, Food.density)"
   ]
  },
  {
   "cell_type": "code",
   "execution_count": 23,
   "metadata": {
    "scrolled": true
   },
   "outputs": [
    {
     "name": "stdout",
     "output_type": "stream",
     "text": [
      "Use greedy by value to allocate 1000 calories\n",
      "Total value of items taken = 424.0\n",
      "    burger: <100, 354>\n",
      "    pizza: <95, 258>\n",
      "    beer: <90, 154>\n",
      "    wine: <89, 123>\n",
      "    apple: <50, 95>\n",
      "\n",
      "Use greedy by cost to allocate 1000 calories\n",
      "Total value of items taken = 413.0\n",
      "    apple: <50, 95>\n",
      "    wine: <89, 123>\n",
      "    cola: <79, 150>\n",
      "    beer: <90, 154>\n",
      "    donut: <10, 195>\n",
      "    pizza: <95, 258>\n",
      "\n",
      "Use greedy by density to allocate 1000 calories\n",
      "Total value of items taken = 413.0\n",
      "    wine: <89, 123>\n",
      "    beer: <90, 154>\n",
      "    cola: <79, 150>\n",
      "    apple: <50, 95>\n",
      "    pizza: <95, 258>\n",
      "    donut: <10, 195>\n"
     ]
    }
   ],
   "source": [
    "names = ['wine', 'beer', 'pizza', 'burger', 'fries',\n",
    "         'cola', 'apple', 'donut', 'cake']\n",
    "values = [89,90,95,100,90,79,50,10]\n",
    "calories = [123,154,258,354,365,150,95,195]\n",
    "foods = buildMenu(names, values, calories)\n",
    "testGreedys(foods, 1000)"
   ]
  },
  {
   "cell_type": "markdown",
   "metadata": {},
   "source": [
    "However, Greedy algorithm can't guarantee that we can get the optimal solutions"
   ]
  },
  {
   "attachments": {},
   "cell_type": "markdown",
   "metadata": {},
   "source": [
    "Search Tree\n",
    "    Each node=<taken, left, totalValue, remaining calories>\n",
    "    1. The tree is built top down starting the root.\n",
    "    2. The first element is selected from the still to be considered items\n",
    "        If it's chosen, a node is constructed that reflects the consequence of choosing to take that item.\n",
    "        If it is not chosen, a node is constructed that reflects the consequence of not taking that item.\n",
    "    3. Applied recursively until there is no leaf children\n",
    "    4. Choos a node with the highest value\n",
    "\n",
    "However, adding memo as a new argument can improve our algorithm\n",
    "\n",
    "def fastMaxVal(toConsider, avail, memo = {}):\n",
    "where momo is a tuple\n",
    "    (items left to be considered, available weight)"
   ]
  },
  {
   "cell_type": "code",
   "execution_count": 34,
   "metadata": {},
   "outputs": [],
   "source": [
    "def maxVal(toConsider, avail):\n",
    "    \"\"\"Assumes toConsider a list of items, avail a weight\n",
    "       Returns a tuple of the total weight of a solution to the\n",
    "         0/1 knapsack problem and the items of that solution\"\"\"\n",
    "    if toConsider == [] or avail == 0:\n",
    "        result = (0, ())\n",
    "    elif toConsider[0].getCost() > avail:\n",
    "        #Explore right branch only\n",
    "        result = maxVal(toConsider[1:], avail)\n",
    "    else:\n",
    "        nextItem = toConsider[0]\n",
    "        #Explore left branch\n",
    "        withVal, withToTake = maxVal(toConsider[1:],\n",
    "                                     avail - nextItem.getCost())\n",
    "        withVal += nextItem.getValue()\n",
    "        #Explore right branch\n",
    "        withoutVal, withoutToTake = maxVal(toConsider[1:], avail)\n",
    "        #Choose better branch\n",
    "        if withVal > withoutVal:\n",
    "            result = (withVal, withToTake + (nextItem,))\n",
    "        else:\n",
    "            result = (withoutVal, withoutToTake)\n",
    "    return result\n",
    "\n",
    "\n",
    "\n",
    "def fastMaxVal(toConsider, avail, memo = {}):\n",
    "    \"\"\"Assumes toConsider a list of subjects, avail a weight\n",
    "         memo supplied by recursive calls\n",
    "       Returns a tuple of the total value of a solution to the\n",
    "         0/1 knapsack problem and the subjects of that solution\"\"\"\n",
    "    if (len(toConsider), avail) in memo:\n",
    "        result = memo[(len(toConsider), avail)]\n",
    "    elif toConsider == [] or avail == 0:\n",
    "        result = (0, ())\n",
    "    elif toConsider[0].getCost() > avail:\n",
    "        #Explore right branch only\n",
    "        result = fastMaxVal(toConsider[1:], avail, memo)\n",
    "    else:\n",
    "        nextItem = toConsider[0]\n",
    "        #Explore left branch\n",
    "        withVal, withToTake =\\\n",
    "                 fastMaxVal(toConsider[1:],\n",
    "                            avail - nextItem.getCost(), memo)\n",
    "        withVal += nextItem.getValue()\n",
    "        #Explore right branch\n",
    "        withoutVal, withoutToTake = fastMaxVal(toConsider[1:],\n",
    "                                                avail, memo)\n",
    "        #Choose better branch\n",
    "        if withVal > withoutVal:\n",
    "            result = (withVal, withToTake + (nextItem,))\n",
    "        else:\n",
    "            result = (withoutVal, withoutToTake)\n",
    "    memo[(len(toConsider), avail)] = result\n",
    "    return result\n",
    "\n",
    "def testMaxVal(foods, maxUnits, algorithm, printItems = True):\n",
    "    print('Menu contains', len(foods), 'items')\n",
    "    print('Use search tree to allocate', maxUnits,\n",
    "          'calories')\n",
    "    val, taken = algorithm(foods, maxUnits)\n",
    "    if printItems:\n",
    "        print('Total value of items taken =', val)\n",
    "        for item in taken:\n",
    "            print('   ', item)"
   ]
  },
  {
   "cell_type": "code",
   "execution_count": null,
   "metadata": {},
   "outputs": [
    {
     "name": "stdout",
     "output_type": "stream",
     "text": [
      "Menu contains 5 items\n",
      "Use search tree to allocate 750 calories\n",
      "Menu contains 10 items\n",
      "Use search tree to allocate 750 calories\n",
      "Menu contains 15 items\n",
      "Use search tree to allocate 750 calories\n",
      "Menu contains 20 items\n",
      "Use search tree to allocate 750 calories\n",
      "Menu contains 25 items\n",
      "Use search tree to allocate 750 calories\n",
      "Menu contains 30 items\n",
      "Use search tree to allocate 750 calories\n",
      "Menu contains 35 items\n",
      "Use search tree to allocate 750 calories\n",
      "Menu contains 40 items\n",
      "Use search tree to allocate 750 calories\n"
     ]
    }
   ],
   "source": [
    "for numItems in (5, 10, 15, 20, 25, 30, 35, 40, 45, 50):\n",
    "    items = buildLargeMenu(numItems, 90, 250)\n",
    "    testMaxVal(items, 750, maxVal, False)"
   ]
  },
  {
   "cell_type": "code",
   "execution_count": null,
   "metadata": {},
   "outputs": [],
   "source": []
  }
 ],
 "metadata": {
  "kernelspec": {
   "display_name": "Python 3",
   "language": "python",
   "name": "python3"
  },
  "language_info": {
   "codemirror_mode": {
    "name": "ipython",
    "version": 3
   },
   "file_extension": ".py",
   "mimetype": "text/x-python",
   "name": "python",
   "nbconvert_exporter": "python",
   "pygments_lexer": "ipython3",
   "version": "3.6.4"
  }
 },
 "nbformat": 4,
 "nbformat_minor": 2
}
